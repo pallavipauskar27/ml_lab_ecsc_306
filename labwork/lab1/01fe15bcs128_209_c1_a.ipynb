{
 "cells": [
  {
   "cell_type": "code",
   "execution_count": 1,
   "metadata": {},
   "outputs": [
    {
     "name": "stdout",
     "output_type": "stream",
     "text": [
      "36\n"
     ]
    }
   ],
   "source": [
    "import tensorflow as t\n",
    "\n",
    "with t.name_scope(\"square_of_2_plus_4\"):\n",
    "    a = t.constant(2)\n",
    "    b = t.constant(4)\n",
    "    c = t.square(a, name=\"a_2\")\n",
    "    d = t.square(b, name=\"b_2\")\n",
    "    e = t.multiply(a,b,name=\"ab\")\n",
    "    f = t.multiply(e,2,name=\"2ab\")\n",
    "    g = t.add(c,d,name=\"a_2_plus_b_2\")\n",
    "    h = t.add(f,g,name=\"a_2_plus_b_2_plus_2ab\")\n",
    "    \n",
    "with t.Session() as sess:\n",
    "    writer = t.summary.FileWriter(\"/tmp/tboard/output_c1\", sess.graph)\n",
    "    print(sess.run(h))\n",
    "    writer.close()"
   ]
  },
  {
   "cell_type": "code",
   "execution_count": null,
   "metadata": {
    "collapsed": true
   },
   "outputs": [],
   "source": []
  }
 ],
 "metadata": {
  "kernelspec": {
   "display_name": "Python 3",
   "language": "python",
   "name": "python3"
  },
  "language_info": {
   "codemirror_mode": {
    "name": "ipython",
    "version": 3
   },
   "file_extension": ".py",
   "mimetype": "text/x-python",
   "name": "python",
   "nbconvert_exporter": "python",
   "pygments_lexer": "ipython3",
   "version": "3.6.1"
  }
 },
 "nbformat": 4,
 "nbformat_minor": 2
}
