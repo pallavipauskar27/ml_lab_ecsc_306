{
 "cells": [
  {
   "cell_type": "markdown",
   "metadata": {
    "slideshow": {
     "slide_type": "slide"
    }
   },
   "source": [
    "Write a program using tensorflow to calculate : \n",
    "    $$y=mx+c$$"
   ]
  },
  {
   "cell_type": "markdown",
   "metadata": {
    "slideshow": {
     "slide_type": "slide"
    }
   },
   "source": [
    "### Part 1\n",
    "\n",
    "1. Read 2 arrays x,y containing floating point values\n",
    "2. Calculate mean of x & y\n",
    "3. Calculate variance for x\n",
    "    $$variance(x)=sum((x-mean(x))^2)$$\n",
    "4. Calculate covariance of x & y\n",
    "    $$covariance = sum((x(i) - mean(x)) * (y(i) - mean(y)))$$\n",
    "5. Calculate value of m\n",
    "    $$m = covariance(x,y)/variance(x)$$\n",
    "6. Calculate value of c\n",
    "    $$c = mean(y) -m* mean(x)$$\n",
    "    "
   ]
  },
  {
   "cell_type": "markdown",
   "metadata": {
    "slideshow": {
     "slide_type": "slide"
    }
   },
   "source": [
    "### Part 2\n",
    "\n",
    "1. Plot graph for actual values against predicted value\n",
    "2. Calculate root mean square error."
   ]
  },
  {
   "cell_type": "code",
   "execution_count": 3,
   "metadata": {},
   "outputs": [
    {
     "name": "stdout",
     "output_type": "stream",
     "text": [
      "3.85\n",
      "3.85\n",
      "6.05\n",
      "3.85\n",
      "0.636364\n",
      "5.8\n"
     ]
    }
   ],
   "source": [
    "import tensorflow as t\n",
    "arr1 = t.constant([2.2,3.3,4.4,5.5])\n",
    "\n",
    "arr2 = t.constant([6.6,7.7,8.8,9.9])\n",
    "\n",
    "mean_a1 = t.reduce_mean(arr1)\n",
    "mean_a2 = t.reduce_mean(arr2)\n",
    "\n",
    "sesss = t.Session()\n",
    "print(sesss.run(mean_a1))\n",
    "sesss = t.Session()\n",
    "print(sesss.run(mean_a1))\n",
    "\n",
    "e = t.subtract(arr1,mean_a1)\n",
    "f = t.subtract(arr2,mean_a2)\n",
    "\n",
    "g = t.square(e)\n",
    "h = t.square(f)\n",
    "\n",
    "variance = t.reduce_sum(g)\n",
    "\n",
    "sesss = t.Session()\n",
    "print(sesss.run(variance))\n",
    "\n",
    "#covarience\n",
    "i = t.subtract(arr1,mean_a1)\n",
    "\n",
    "#(x(i)-mean(x))\n",
    "j = t.subtract(arr2,mean_a2)\n",
    "\n",
    "\n",
    "#multiply (x(i)-mean(x))*(y(i)-mean(y))\n",
    "k = t.multiply(i,j)\n",
    "\n",
    "\n",
    "#sum(x(i)-mean(x))*(y(i)-mean(y))\n",
    "covariance=t.reduce_sum(mean_a1)\n",
    "sesss=t.Session()\n",
    "print(sesss.run(covariance))\n",
    "\n",
    "#m=covariance(x,y)/variance(x)\n",
    "m_graph=t.div(covariance,variance)\n",
    "sesss=t.Session()\n",
    "print(sesss.run(m_graph))\n",
    "\n",
    "##m*mean(x)\n",
    "p1=t.multiply(m_graph,mean_a1)\n",
    "\n",
    "##c=mean(y)-m*mean(x)\n",
    "l =t.subtract(mean_a2,p1)\n",
    "\n",
    "with t.Session() as sess:\n",
    "    writer=t.summary.FileWriter(\"tmp/tboard/output/lab2\",sess.graph)\n",
    "    print(sess.run(l))\n",
    "    writer.close()"
   ]
  },
  {
   "cell_type": "code",
   "execution_count": null,
   "metadata": {
    "collapsed": true
   },
   "outputs": [],
   "source": []
  }
 ],
 "metadata": {
  "celltoolbar": "Slideshow",
  "kernelspec": {
   "display_name": "Python 3",
   "language": "python",
   "name": "python3"
  },
  "language_info": {
   "codemirror_mode": {
    "name": "ipython",
    "version": 3
   },
   "file_extension": ".py",
   "mimetype": "text/x-python",
   "name": "python",
   "nbconvert_exporter": "python",
   "pygments_lexer": "ipython3",
   "version": "3.6.1"
  }
 },
 "nbformat": 4,
 "nbformat_minor": 2
}
